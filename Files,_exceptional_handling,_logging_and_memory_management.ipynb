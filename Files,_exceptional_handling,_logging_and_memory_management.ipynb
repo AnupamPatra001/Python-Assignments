{
  "nbformat": 4,
  "nbformat_minor": 0,
  "metadata": {
    "colab": {
      "provenance": []
    },
    "kernelspec": {
      "name": "python3",
      "display_name": "Python 3"
    },
    "language_info": {
      "name": "python"
    }
  },
  "cells": [
    {
      "cell_type": "markdown",
      "source": [
        "#Files, exceptional handling, logging and memory management\n",
        "\n"
      ],
      "metadata": {
        "id": "Jd9hl5jIsvM7"
      }
    },
    {
      "cell_type": "markdown",
      "source": [
        "##Theory"
      ],
      "metadata": {
        "id": "OiBn0Onqsu6T"
      }
    },
    {
      "cell_type": "markdown",
      "source": [
        "1. Difference between interpreted and compiled languages.\n",
        "  - Compiled languages translate code into machine code before execution, making them faster.\n",
        "  - Interpreted languages execute code line-by-line at runtime, making them easier to debug but slower.\n",
        "\n",
        "2. Exception handling in Python\n",
        "  - Exception handling manages runtime errors to prevent program crashes.\n",
        "  - It uses try, except, else, and finally blocks to control error flow.\n",
        "\n",
        "3. Purpose of the finally block\n",
        "  - The finally block runs regardless of whether an exception occurs.\n",
        "  - It is often used for cleanup operations like closing files or releasing resources.\n",
        "\n",
        "4. Logging in Python\n",
        "  - Logging records messages about a program’s execution for debugging and monitoring.\n",
        "  - It is done using Python’s built-in logging module.\n",
        "\n",
        "5. Significance of __del__ method\n",
        "  - __del__ is a destructor method called when an object is about to be destroyed.\n",
        "  - It’s used for cleanup, such as closing connections or freeing resources.\n",
        "\n",
        "6. Difference between import and from ... import\n",
        "  - import imports the entire module, accessed with module_name.function().\n",
        "  - from ... import imports specific items directly, avoiding the module prefix.\n",
        "\n",
        "7. Handling multiple exceptions\n",
        "  - You can handle multiple exceptions by using multiple except blocks.\n",
        "  - Or, group them in a tuple within a single except clause.\n",
        "\n",
        "8. Purpose of with statement in file handling\n",
        "  - With ensures files are automatically closed after their block of code finishes.\n",
        "  - It makes file handling cleaner and prevents resource leaks.\n",
        "\n",
        "9. Difference between multithreading and multiprocessing\n",
        "  - Multithreading runs multiple threads within a single process, sharing memory.\n",
        "  - Multiprocessing runs multiple processes with separate memory spaces.\n",
        "\n",
        "10. Advantages of logging\n",
        "  - Logging helps track program flow, detect issues, and debug efficiently.\n",
        "  - It can store records persistently for later analysis.\n",
        "\n",
        "11. Memory management in Python\n",
        "  - Python uses automatic memory management with garbage collection.\n",
        "  - It allocates, tracks, and frees memory for objects as needed.\n",
        "\n",
        "12. Basic steps in exception handling\n",
        "  - Wrap risky code inside a try block.\n",
        "  - Catch and handle errors using one or more except blocks.\n",
        "\n",
        "13. Importance of memory management\n",
        "  - Efficient memory use improves performance and prevents crashes.\n",
        "  - It ensures resources are freed when no longer needed.\n",
        "\n",
        "14. Role of try and except\n",
        "  - try contains code that might cause an exception.\n",
        "  - except handles the error and prevents program termination.\n",
        "\n",
        "15. Python's garbage collection system\n",
        "  - It uses reference counting to track object usage.\n",
        "  - A cyclic garbage collector removes unreachable objects in memory cycles.\n",
        "\n",
        "16. Purpose of else block in exception handling\n",
        "  - else runs only if no exceptions occur in the try block.\n",
        "  - It’s used for code that should run after successful execution.\n",
        "\n",
        "17. Common logging levels\n",
        "  - DEBUG, INFO, WARNING, ERROR, and CRITICAL.\n",
        "  - These define the severity of logged events.\n",
        "\n",
        "18. Difference between os.fork() and multiprocessing\n",
        "  - os.fork() creates a child process on Unix-like systems only.\n",
        "  - multiprocessing works cross-platform and offers more features.\n",
        "\n",
        "19. Importance of closing a file\n",
        "  - Closing releases system resources tied to the file.\n",
        "  - It ensures all data is written and prevents corruption.\n",
        "\n",
        "20. Difference between file.read() and file.readline()\n",
        "  - read() reads the entire file or a specified number of bytes.\n",
        "  - readline() reads only one line at a time.\n",
        "\n",
        "21. Logging module usage\n",
        "  - The logging module is used to record debug, info, and error messages.\n",
        "  - It supports output to console, files, and other destinations.\n",
        "\n",
        "22. os module in file handling\n",
        "  - The os module manages file paths, directories, and environment variables.\n",
        "  - It provides functions like os.rename(), os.remove(), and os.mkdir().\n",
        "\n",
        "23. Challenges in memory management\n",
        "  - Circular references can delay memory release.\n",
        "  - High memory usage may cause performance degradation.\n",
        "\n",
        "24. Raising an exception manually\n",
        "  - Use the raise keyword with an exception class.\n",
        "  - Example: raise ValueError(\"Invalid input\").\n",
        "\n",
        "25. Importance of multithreading\n",
        "  - It improves responsiveness in applications with I/O-bound tasks.\n",
        "  - It allows concurrent operations without blocking the main thread."
      ],
      "metadata": {
        "id": "0Y55vKl4tHeq"
      }
    },
    {
      "cell_type": "markdown",
      "source": [
        "## Practical question"
      ],
      "metadata": {
        "id": "1978TobDue0R"
      }
    },
    {
      "cell_type": "code",
      "execution_count": 1,
      "metadata": {
        "id": "I691k6GxsjM3"
      },
      "outputs": [],
      "source": [
        "# 1. How can you open a file for writing in Python and write a string to it?\n",
        "with open(\"file1.txt\", \"w\") as f:\n",
        "    f.write(\"Hello, Python!\")\n"
      ]
    },
    {
      "cell_type": "code",
      "source": [
        "# 2. Write a Python program to read the contents of a file and print each line.\n",
        "with open(\"file1.txt\", \"r\") as f:\n",
        "    for line in f:\n",
        "        print(line.strip())"
      ],
      "metadata": {
        "colab": {
          "base_uri": "https://localhost:8080/"
        },
        "id": "bfgQ9alKupaC",
        "outputId": "9c7c1023-2501-48af-e212-ce1e914b9022"
      },
      "execution_count": 2,
      "outputs": [
        {
          "output_type": "stream",
          "name": "stdout",
          "text": [
            "Hello, Python!\n"
          ]
        }
      ]
    },
    {
      "cell_type": "code",
      "source": [
        "# 3. How would you handle a case where the file doesn't exist while trying to open it for reading?\n",
        "try:\n",
        "    with open(\"nofile.txt\", \"r\") as f:\n",
        "        print(f.read())\n",
        "except FileNotFoundError:\n",
        "    print(\"File not found.\")"
      ],
      "metadata": {
        "colab": {
          "base_uri": "https://localhost:8080/"
        },
        "id": "ubrkne6WupPf",
        "outputId": "2c20852b-85bc-4782-84e1-b7fd95a485b6"
      },
      "execution_count": 3,
      "outputs": [
        {
          "output_type": "stream",
          "name": "stdout",
          "text": [
            "File not found.\n"
          ]
        }
      ]
    },
    {
      "cell_type": "code",
      "source": [
        "# 4. Write a Python script that reads from one file and writes its content to another file.\n",
        "with open(\"file1.txt\", \"r\") as src, open(\"file2.txt\", \"w\") as dest:\n",
        "    dest.write(src.read())\n"
      ],
      "metadata": {
        "id": "ad3qOrpkupE_"
      },
      "execution_count": 4,
      "outputs": []
    },
    {
      "cell_type": "code",
      "source": [
        "# 5. How would you catch and handle division by zero error in Python?\n",
        "try:\n",
        "    10 / 0\n",
        "except ZeroDivisionError:\n",
        "    print(\"Division by zero error.\")\n"
      ],
      "metadata": {
        "colab": {
          "base_uri": "https://localhost:8080/"
        },
        "id": "bPdPLBgquo5y",
        "outputId": "7450651e-fbd1-49c4-9a44-00344bc812ac"
      },
      "execution_count": 5,
      "outputs": [
        {
          "output_type": "stream",
          "name": "stdout",
          "text": [
            "Division by zero error.\n"
          ]
        }
      ]
    },
    {
      "cell_type": "code",
      "source": [
        "# 6. Write a Python program that logs an error message to a log file when a division by zero exception occurs.\n",
        "import logging\n",
        "logging.basicConfig(filename=\"error.log\", level=logging.ERROR)\n",
        "try:\n",
        "    5 / 0\n",
        "except ZeroDivisionError:\n",
        "    logging.error(\"Division by zero occurred.\")\n"
      ],
      "metadata": {
        "colab": {
          "base_uri": "https://localhost:8080/"
        },
        "id": "yo4HlGvDuovk",
        "outputId": "2338113d-0471-4ead-8898-5d4e5f7f2422"
      },
      "execution_count": 6,
      "outputs": [
        {
          "output_type": "stream",
          "name": "stderr",
          "text": [
            "ERROR:root:Division by zero occurred.\n"
          ]
        }
      ]
    },
    {
      "cell_type": "code",
      "source": [
        "# 7. How do you log information at different levels (INFO, ERROR, WARNING) in Python using the logging module?\n",
        "logging.basicConfig(level=logging.DEBUG)\n",
        "logging.info(\"This is an info message.\")\n",
        "logging.warning(\"This is a warning message.\")\n",
        "logging.error(\"This is an error message.\")"
      ],
      "metadata": {
        "colab": {
          "base_uri": "https://localhost:8080/"
        },
        "id": "omWTLf1Guoln",
        "outputId": "6de217bf-8061-434e-ef18-c6ade272362b"
      },
      "execution_count": 7,
      "outputs": [
        {
          "output_type": "stream",
          "name": "stderr",
          "text": [
            "WARNING:root:This is a warning message.\n",
            "ERROR:root:This is an error message.\n"
          ]
        }
      ]
    },
    {
      "cell_type": "code",
      "source": [
        "# 8. Write a program to handle a file opening error using exception handling.\n",
        "try:\n",
        "    with open(\"missing.txt\", \"r\") as f:\n",
        "        print(f.read())\n",
        "except FileNotFoundError:\n",
        "    print(\"File not found.\")"
      ],
      "metadata": {
        "colab": {
          "base_uri": "https://localhost:8080/"
        },
        "id": "GzaVTdcPuoZ9",
        "outputId": "9f658c73-f3a2-4dcb-e6a7-da9e9d8b3295"
      },
      "execution_count": 8,
      "outputs": [
        {
          "output_type": "stream",
          "name": "stdout",
          "text": [
            "File not found.\n"
          ]
        }
      ]
    },
    {
      "cell_type": "code",
      "source": [
        "# 9. How can you read a file line by line and store its content in a list in Python?\n",
        "with open(\"file1.txt\", \"r\") as f:\n",
        "    lines = [line.strip() for line in f]\n",
        "print(lines)\n",
        "\n"
      ],
      "metadata": {
        "colab": {
          "base_uri": "https://localhost:8080/"
        },
        "id": "qeP1vZ9WuoPw",
        "outputId": "295313e5-c6a5-4231-f144-44d1324a9bd2"
      },
      "execution_count": 9,
      "outputs": [
        {
          "output_type": "stream",
          "name": "stdout",
          "text": [
            "['Hello, Python!']\n"
          ]
        }
      ]
    },
    {
      "cell_type": "code",
      "source": [
        "# 10. How can you append data to an existing file in Python?\n",
        "with open(\"file1.txt\", \"a\") as f:\n",
        "    f.write(\"\\nAppended text.\")"
      ],
      "metadata": {
        "id": "6YsUmGDdxTNk"
      },
      "execution_count": 23,
      "outputs": []
    },
    {
      "cell_type": "code",
      "source": [
        "# 11. Write a Python program that uses a try-except block to handle an error when attempting to access a dictionary key that doesn't exist.\n",
        "data = {\"name\": \"Anupam\"}\n",
        "try:\n",
        "    print(data[\"age\"])\n",
        "except KeyError:\n",
        "    print(\"Key not found.\")"
      ],
      "metadata": {
        "colab": {
          "base_uri": "https://localhost:8080/"
        },
        "id": "Ymg1MkfCuoE2",
        "outputId": "9a590fad-d5fb-4305-b1fa-cf6d45a9730d"
      },
      "execution_count": 10,
      "outputs": [
        {
          "output_type": "stream",
          "name": "stdout",
          "text": [
            "Key not found.\n"
          ]
        }
      ]
    },
    {
      "cell_type": "code",
      "source": [
        "# 12. Write a program that demonstrates using multiple except blocks to handle different types of exceptions.\n",
        "try:\n",
        "    num = int(\"abc\")\n",
        "except ValueError:\n",
        "    print(\"ValueError occurred.\")\n",
        "except TypeError:\n",
        "    print(\"TypeError occurred.\")"
      ],
      "metadata": {
        "colab": {
          "base_uri": "https://localhost:8080/"
        },
        "id": "8UkgnPZSun6l",
        "outputId": "43e02ed3-d348-4f98-bd5e-244d8347b009"
      },
      "execution_count": 11,
      "outputs": [
        {
          "output_type": "stream",
          "name": "stdout",
          "text": [
            "ValueError occurred.\n"
          ]
        }
      ]
    },
    {
      "cell_type": "code",
      "source": [
        "# 13. How would you check if a file exists before attempting to read it in Python?\n",
        "import os\n",
        "if os.path.exists(\"file1.txt\"):\n",
        "    with open(\"file1.txt\", \"r\") as f:\n",
        "        print(f.read())\n",
        "else:\n",
        "    print(\"File does not exist.\")"
      ],
      "metadata": {
        "colab": {
          "base_uri": "https://localhost:8080/"
        },
        "id": "1ByvqPp4unwW",
        "outputId": "e2c20011-b1d0-47e1-93c5-e7b5ab576896"
      },
      "execution_count": 12,
      "outputs": [
        {
          "output_type": "stream",
          "name": "stdout",
          "text": [
            "Hello, Python!\n",
            "Appended text.\n"
          ]
        }
      ]
    },
    {
      "cell_type": "code",
      "source": [
        "# 14. Write a program that uses the logging module to log both informational and error messages.\n",
        "logging.info(\"Informational log.\")\n",
        "logging.error(\"Error log.\")"
      ],
      "metadata": {
        "colab": {
          "base_uri": "https://localhost:8080/"
        },
        "id": "ibBjv87uunk5",
        "outputId": "27ec3cd9-7219-4f04-a254-d94c94cca00b"
      },
      "execution_count": 13,
      "outputs": [
        {
          "output_type": "stream",
          "name": "stderr",
          "text": [
            "ERROR:root:Error log.\n"
          ]
        }
      ]
    },
    {
      "cell_type": "code",
      "source": [
        "# 15. Write a Python program that prints the content of a file and handles the case when the file is empty.\n",
        "with open(\"file1.txt\", \"r\") as f:\n",
        "    content = f.read()\n",
        "    if content.strip():\n",
        "        print(content)\n",
        "    else:\n",
        "        print(\"File is empty.\")"
      ],
      "metadata": {
        "colab": {
          "base_uri": "https://localhost:8080/"
        },
        "id": "sczQ2C7xunat",
        "outputId": "6987151c-323b-4eee-b302-3915dfd41603"
      },
      "execution_count": 14,
      "outputs": [
        {
          "output_type": "stream",
          "name": "stdout",
          "text": [
            "Hello, Python!\n",
            "Appended text.\n"
          ]
        }
      ]
    },
    {
      "cell_type": "code",
      "source": [
        "# 16. Demonstrate how to use memory profiling to check the memory usage of a small program.\n",
        "import tracemalloc\n",
        "tracemalloc.start()\n",
        "a = [i for i in range(1000)]\n",
        "print(tracemalloc.get_traced_memory())\n",
        "tracemalloc.stop()"
      ],
      "metadata": {
        "colab": {
          "base_uri": "https://localhost:8080/"
        },
        "id": "R1mU8E23unP_",
        "outputId": "2e265d80-bfc2-4593-da91-8481c7a77953"
      },
      "execution_count": 15,
      "outputs": [
        {
          "output_type": "stream",
          "name": "stdout",
          "text": [
            "(33585, 44873)\n"
          ]
        }
      ]
    },
    {
      "cell_type": "code",
      "source": [
        "# 17. Write a Python program to create and write a list of numbers to a file, one number per line.\n",
        "numbers = [1, 2, 3, 4, 5]\n",
        "with open(\"numbers.txt\", \"w\") as f:\n",
        "    for num in numbers:\n",
        "        f.write(str(num) + \"\\n\")\n"
      ],
      "metadata": {
        "id": "W7wlQQjdunFT"
      },
      "execution_count": 16,
      "outputs": []
    },
    {
      "cell_type": "code",
      "source": [
        "# 18. How would you implement a basic logging setup that logs to a file with rotation after 1MB?\n",
        "from logging.handlers import RotatingFileHandler\n",
        "handler = RotatingFileHandler(\"rotating.log\", maxBytes=1048576, backupCount=3)\n",
        "logger = logging.getLogger()\n",
        "logger.setLevel(logging.INFO)\n",
        "logger.addHandler(handler)\n",
        "logger.info(\"This is a rotating log message.\")"
      ],
      "metadata": {
        "colab": {
          "base_uri": "https://localhost:8080/"
        },
        "id": "uFQ7EiUdum64",
        "outputId": "d3814b9b-7302-472b-e37e-4090dc51041c"
      },
      "execution_count": 17,
      "outputs": [
        {
          "output_type": "stream",
          "name": "stderr",
          "text": [
            "INFO:root:This is a rotating log message.\n"
          ]
        }
      ]
    },
    {
      "cell_type": "code",
      "source": [
        "# 19. Write a program that handles both IndexError and KeyError using a try-except block.\n",
        "try:\n",
        "    lst = [1, 2, 3]\n",
        "    print(lst[5])\n",
        "    dct = {}\n",
        "    print(dct[\"key\"])\n",
        "except IndexError:\n",
        "    print(\"IndexError occurred.\")\n",
        "except KeyError:\n",
        "    print(\"KeyError occurred.\")"
      ],
      "metadata": {
        "colab": {
          "base_uri": "https://localhost:8080/"
        },
        "id": "1z14Lc_3umwa",
        "outputId": "79237ae6-5f04-4020-907b-26d484c915f6"
      },
      "execution_count": 18,
      "outputs": [
        {
          "output_type": "stream",
          "name": "stdout",
          "text": [
            "IndexError occurred.\n"
          ]
        }
      ]
    },
    {
      "cell_type": "code",
      "source": [
        "# 20. How would you open a file and read its contents using a context manager in Python?\n",
        "with open(\"file1.txt\", \"r\") as f:\n",
        "    print(f.read())\n"
      ],
      "metadata": {
        "colab": {
          "base_uri": "https://localhost:8080/"
        },
        "id": "awh2GpqQummO",
        "outputId": "96580feb-2da2-46a9-edd2-195a0bfd12ef"
      },
      "execution_count": 19,
      "outputs": [
        {
          "output_type": "stream",
          "name": "stdout",
          "text": [
            "Hello, Python!\n",
            "Appended text.\n"
          ]
        }
      ]
    },
    {
      "cell_type": "code",
      "source": [
        "# 21. Write a Python program that reads a file and prints the number of occurrences of a specific word.\n",
        "word = \"Python\"\n",
        "with open(\"file1.txt\", \"r\") as f:\n",
        "    text = f.read()\n",
        "print(text.count(word))"
      ],
      "metadata": {
        "colab": {
          "base_uri": "https://localhost:8080/"
        },
        "id": "ggSV1lzXumb_",
        "outputId": "27da8f05-301b-48eb-a122-a0bf46e5f866"
      },
      "execution_count": 20,
      "outputs": [
        {
          "output_type": "stream",
          "name": "stdout",
          "text": [
            "1\n"
          ]
        }
      ]
    },
    {
      "cell_type": "code",
      "source": [
        "# 22. How can you check if a file is empty before attempting to read its contents?\n",
        "if os.path.exists(\"file1.txt\") and os.path.getsize(\"file1.txt\") > 0:\n",
        "    with open(\"file1.txt\", \"r\") as f:\n",
        "        print(f.read())\n",
        "else:\n",
        "    print(\"File is empty or does not exist.\")"
      ],
      "metadata": {
        "colab": {
          "base_uri": "https://localhost:8080/"
        },
        "id": "P4cdKptdumRP",
        "outputId": "2e20a224-f023-4e9c-b82b-ad1ff1cf39bb"
      },
      "execution_count": 21,
      "outputs": [
        {
          "output_type": "stream",
          "name": "stdout",
          "text": [
            "Hello, Python!\n",
            "Appended text.\n"
          ]
        }
      ]
    },
    {
      "cell_type": "code",
      "source": [
        "# 23. Write a Python program that writes to a log file when an error occurs during file handling.\n",
        "try:\n",
        "    with open(\"missingfile.txt\", \"r\") as f:\n",
        "        print(f.read())\n",
        "except Exception as e:\n",
        "    logging.basicConfig(filename=\"file_error.log\", level=logging.ERROR)\n",
        "    logging.error(f\"Error occurred: {e}\")"
      ],
      "metadata": {
        "colab": {
          "base_uri": "https://localhost:8080/"
        },
        "id": "Z9WM44WMumGe",
        "outputId": "6e55d852-f734-4bae-ccdc-46c04aa0a604"
      },
      "execution_count": 22,
      "outputs": [
        {
          "output_type": "stream",
          "name": "stderr",
          "text": [
            "ERROR:root:Error occurred: [Errno 2] No such file or directory: 'missingfile.txt'\n"
          ]
        }
      ]
    },
    {
      "cell_type": "code",
      "source": [],
      "metadata": {
        "id": "Lbxalf83ul45"
      },
      "execution_count": null,
      "outputs": []
    }
  ]
}