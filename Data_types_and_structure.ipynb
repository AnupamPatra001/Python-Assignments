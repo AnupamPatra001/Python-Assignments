{
  "nbformat": 4,
  "nbformat_minor": 0,
  "metadata": {
    "colab": {
      "provenance": []
    },
    "kernelspec": {
      "name": "python3",
      "display_name": "Python 3"
    },
    "language_info": {
      "name": "python"
    }
  },
  "cells": [
    {
      "cell_type": "markdown",
      "source": [
        "# Data types and structure"
      ],
      "metadata": {
        "id": "d8LQdBKEHVVN"
      }
    },
    {
      "cell_type": "markdown",
      "source": [],
      "metadata": {
        "id": "khppjpCx4o4R"
      }
    },
    {
      "cell_type": "markdown",
      "source": [
        "## Theory"
      ],
      "metadata": {
        "id": "3dD5_oj7Hl85"
      }
    },
    {
      "cell_type": "markdown",
      "source": [
        "1. What are data structures, and why are they important?\n",
        "  - Data structure is the way to organize, store data so that it can accessed and manipulated efficiently later.\n",
        "  - In Python the data structures are: List, set, tuple and dictionary etc.\n",
        "  - It is important because of:\n",
        "    - Efficiency,\n",
        "    - Data organization,\n",
        "    - Code optimization etc\n",
        "2. Explain the difference between mutable and immutable data types with examples.\n",
        "  - Mutable data types:\n",
        "    - Mutable data type refers to the type of data store in a structure can be updated or modified after assigning once.\n",
        "    - eg: Set, List etc\n",
        "  - Immutable data types:\n",
        "    - Immutable data types refers to the data store in such a type of structure where the data can not modified or update once after assigned.\n",
        "    - eg: Tuple, string etc\n",
        "3. What are the main differences between lists and tuples in Python ?\n",
        "  - The main difference between list and tuple is, list is mutable and tuple is immutable.\n",
        "  - Element operation is possible in list but not possible in tuple.\n",
        "  - List is denoted in square bracket but tuple is denoted in small bracket.\n",
        "4. Describe how dictionaries store data.\n",
        "  - Dictionary stores data in key-value pair, where the key is converted in hash value by the built-in hash function and the value part is stored in the memory by the help of indexing.\n",
        "  - Here the key works as the address which pointed to the value stored in the memory part.\n",
        "5. Why might you use a set instead of a list in Python?\n",
        "  - In Python all the types of data structure have different work technique, so the list and set works well in their place.\n",
        "  - Set is unordered and stores unique element, while the list is the ordered collection of data items.\n",
        "  - So, when we want only the unique item and no repetation, then we can use set instead of list.\n",
        "6. What is a string in Python, and how is it different from a list ?\n",
        "  - String is the collection of characters which is enclosed by single or double quote while list is the ordered collection of elements like string, list, numbers etc.\n",
        "  - String is immutable while list is mutable.\n",
        "  - String is used for text processing while list is used for handeling collection of data.\n",
        "7. How do tuples ensure data integrity in Python ?\n",
        "  - Tuple is an immutable data structure which means here changing of item value is not possible.\n",
        "  - Data integrity means data must be unchanged, accurate and consistent which is possible by tuple ass it is immutable.\n",
        "8. What is a hash table, and how does it relate to dictionaries in Python ?\n",
        "  - Hash table is a data structure which maps the key to the value by a process called hashing.\n",
        "  - The key is converted to a hash value by hashing and an index is assigned from the hash value in an array where the value can be stored.\n",
        "  - The work flow is similar in both hash table and dictionary, thats how it relates to the hash table.\n",
        "9. Can lists contain different data types in Python ?\n",
        "  - Yes, list can store different data types like, integer, float, string, float, set, list etc in python.\n",
        "  - List in Python is dynamically implemented so it is immutable and can store different types of data types.\n",
        "10. Explain why strings are immutable in Python.\n",
        "  - Strings are immutable in Python because it of its static implementation and it can not be changed after once inserted.\n",
        "  - It is stored in a sequence of character so due to immutability it saves memory and makes program faster.\n",
        "11. What advantages do dictionaries offer over lists for certain tasks ?\n",
        "  - Dictionary and list are both are flexible data structures but dictionary is often better than list in cirtain tasks like, key-based access, faster lookup and structured data storage.\n",
        "  - As we can give flexible keys so, it is more expressive so no need to remember the indices, and it uses the hashing technique so it has much faster lookup and better organization due to its hash value.\n",
        "12. Describe a scenario where using a tuple would be preferable over a list.\n",
        "  - Tuple data structure is immutable but the list data structure is mutable so the case where we want to keep the value unchanged at any  condition, then there we can use tuple over list.\n",
        "  - In INDIA aadhaar number is unique and remain same in every situation so in that case we can store them in tuple so that it can't be changed by any mistake.\n",
        "13. How do sets handle duplicate values in Python ?\n",
        "  - Set is an unordered collection of unique value where the duplicate value are automatically removed.\n",
        "  - In set the value are converted in their hash value and it checks that if the value is present in the set or not , if present then it ignore it else it add the value in the set.\n",
        "14. How does the “in” keyword work differently for lists and dictionaries ?\n",
        "  - 'in' keyword is a membership operator in Python which checks the availability of an value in a container like list or dictionary.\n",
        "  - In case of list it checks if the value is present or not in that container so it takes O(n) time but in dictionary it check if the hash value of the key is present or not so it takes only O(1) time which is much faster .\n",
        "15. Can you modify the elements of a tuple? Explain why or why not ?\n",
        "  - No, we can not modify the elements of a tuple because tuple is immutable which doesn't allow modifing or changing .\n",
        "  - It is immutable because of its static implementation which makes it faster and secure.\n",
        "16. What is a nested dictionary, and give an example of its use case ?\n",
        "  - Nested dictionary means dictionary inside dictionary where values are stored in dictionary type, which is used to store heiarchical data.\n",
        "  - students = {\n",
        "    \"101\": {\"name\": \"Anupam\", \"age\": 20, \"marks\": 92},\n",
        "    \"102\": {\"name\": \"Riya\", \"age\": 21, \"marks\": 88},\n",
        "    \"103\": {\"name\": \"Rahul\", \"age\": 19, \"marks\": 95}\n",
        "    }\n",
        "\n",
        "    print(students[\"101\"][\"name\"])   # Output: Anupam\n",
        "    print(students[\"103\"][\"marks\"])  # Output: 95\n",
        "17. Describe the time complexity of accessing elements in a dictionary.\n",
        "  - The time complexity of accessing elements in a dictionary is O(1).\n",
        "  - In dictionary the value are searched by the hash value of key of that element.\n",
        "  - But in worst case the time complexity is O(n) when for finding the index value of the element causes many collision ans the hash value have the check the every index.\n",
        "18. In what situations are lists preferred over dictionaries ?\n",
        "  - The lists are preferredd over dictionary when there is no perticular name for the key so index is preferred more.\n",
        "  - List is more preffered where data is ordered and accessed by position,\n",
        "  - Where sequence and simplicity is more matter than structure.\n",
        "19. Why are dictionaries considered unordered, and how does that affect data retrieval ?\n",
        "  - In older version of Python, dictionaries are considered as unordered but after the Python 3.7 the dictionary maintain the order.\n",
        "  - The data retrival requires key not index .\n",
        "20. Explain the difference between a list and a dictionary in terms of data retrieval.\n",
        "  - In list, the data is accessed by index but in dictionary the data are accessed by the key.\n",
        "  - In list, the retrival depends on the order but the dictionay doesn't require order.\n",
        "  - The search speed in list is O(n) but in dictionay it is O(1).\n"
      ],
      "metadata": {
        "id": "ZfhZmCTYHrOX"
      }
    },
    {
      "cell_type": "markdown",
      "source": [
        "## Code"
      ],
      "metadata": {
        "id": "gVLAosxoWreU"
      }
    },
    {
      "cell_type": "code",
      "execution_count": null,
      "metadata": {
        "id": "kRcsPyc3HEwY",
        "colab": {
          "base_uri": "https://localhost:8080/"
        },
        "outputId": "1f7f3fac-f26a-4e3d-c75c-677b40a456b9"
      },
      "outputs": [
        {
          "output_type": "stream",
          "name": "stdout",
          "text": [
            "My name is  Anupam Patra\n"
          ]
        }
      ],
      "source": [
        "#1. Write a code to create a string with your name and print it.\n",
        "my_name=\"Anupam Patra\"\n",
        "print(\"My name is \",my_name)"
      ]
    },
    {
      "cell_type": "code",
      "source": [
        "#2.Write a code to find the length of the string \"Hello World\".\n",
        "len(\"Hello World\")"
      ],
      "metadata": {
        "colab": {
          "base_uri": "https://localhost:8080/"
        },
        "id": "OP55pTjAXMfB",
        "outputId": "38a5cdb3-f414-4159-d7ab-1a6f3033297d"
      },
      "execution_count": null,
      "outputs": [
        {
          "output_type": "execute_result",
          "data": {
            "text/plain": [
              "11"
            ]
          },
          "metadata": {},
          "execution_count": 2
        }
      ]
    },
    {
      "cell_type": "code",
      "source": [
        "#3.Write a code to slice the first 3 characters from the string \"Python Programming\".\n",
        "a=\"Python Programming\"\n",
        "print(a[:3])\n"
      ],
      "metadata": {
        "colab": {
          "base_uri": "https://localhost:8080/"
        },
        "id": "-iailNxTXsQn",
        "outputId": "f72af565-bd98-416b-802e-3ea5a2bde75d"
      },
      "execution_count": null,
      "outputs": [
        {
          "output_type": "stream",
          "name": "stdout",
          "text": [
            "Pyt\n"
          ]
        }
      ]
    },
    {
      "cell_type": "code",
      "source": [
        "#4.Write a code to convert the string \"hello\" to uppercase.\n",
        "a=\"hello\"\n",
        "print(a.upper())"
      ],
      "metadata": {
        "colab": {
          "base_uri": "https://localhost:8080/"
        },
        "id": "LzAK-8rZY7WH",
        "outputId": "7345bf44-469d-4eed-ddca-3f066c2a2139"
      },
      "execution_count": null,
      "outputs": [
        {
          "output_type": "stream",
          "name": "stdout",
          "text": [
            "HELLO\n"
          ]
        }
      ]
    },
    {
      "cell_type": "code",
      "source": [
        "#5.Write a code to replace the word \"apple\" with \"orange\" in the string \"I like apple\"\n",
        "a=\"I like apple\"\n",
        "print(a.replace(\"apple\",\"orange\"))"
      ],
      "metadata": {
        "colab": {
          "base_uri": "https://localhost:8080/"
        },
        "id": "GFggERs0ZjvI",
        "outputId": "24f5601a-e49d-40c0-e566-dfc157aa81d6"
      },
      "execution_count": null,
      "outputs": [
        {
          "output_type": "stream",
          "name": "stdout",
          "text": [
            "I like orange\n"
          ]
        }
      ]
    },
    {
      "cell_type": "code",
      "source": [
        "#6.Write a code to create a list with numbers 1 to 5 and print it\n",
        "lis=[]\n",
        "for i in range(1,6):\n",
        "  lis.append(i)\n",
        "print(lis)\n"
      ],
      "metadata": {
        "colab": {
          "base_uri": "https://localhost:8080/"
        },
        "id": "yQSAfLYsbFbt",
        "outputId": "6d70f3ef-cffc-441e-d250-39529e0088e7"
      },
      "execution_count": null,
      "outputs": [
        {
          "output_type": "stream",
          "name": "stdout",
          "text": [
            "[1, 2, 3, 4, 5]\n"
          ]
        }
      ]
    },
    {
      "cell_type": "code",
      "source": [
        "#7.Write a code to append the number 10 to the list [1, 2, 3, 4]\n",
        "l1=[1,2,3,4]\n",
        "l1.append(10)\n",
        "print(l1)"
      ],
      "metadata": {
        "colab": {
          "base_uri": "https://localhost:8080/"
        },
        "id": "Aqglmp6SbzGn",
        "outputId": "68f23001-e69c-4842-ebe4-af92c4312b55"
      },
      "execution_count": null,
      "outputs": [
        {
          "output_type": "stream",
          "name": "stdout",
          "text": [
            "[1, 2, 3, 4, 10]\n"
          ]
        }
      ]
    },
    {
      "cell_type": "code",
      "source": [
        "#8.Write a code to remove the number 3 from the list [1, 2, 3, 4, 5]\n",
        "l2=[1,2,3,4,5]\n",
        "l2.remove(3)\n",
        "print(l2)"
      ],
      "metadata": {
        "colab": {
          "base_uri": "https://localhost:8080/"
        },
        "id": "qX7aZhOWcdCa",
        "outputId": "06684819-9a7c-401c-d100-7b3a662de486"
      },
      "execution_count": null,
      "outputs": [
        {
          "output_type": "stream",
          "name": "stdout",
          "text": [
            "[1, 2, 4, 5]\n"
          ]
        }
      ]
    },
    {
      "cell_type": "code",
      "source": [
        "#9.Write a code to access the second element in the list ['a', 'b', 'c', 'd']\n",
        "l3=['a','b','c','d']\n",
        "print(l3[1])"
      ],
      "metadata": {
        "colab": {
          "base_uri": "https://localhost:8080/"
        },
        "id": "IUQUZG4ZczeK",
        "outputId": "77014f42-c784-42b3-ee98-d6b3d3a25fdc"
      },
      "execution_count": null,
      "outputs": [
        {
          "output_type": "stream",
          "name": "stdout",
          "text": [
            "b\n"
          ]
        }
      ]
    },
    {
      "cell_type": "code",
      "source": [
        "#10.Write a code to reverse the list [10, 20, 30, 40, 50]\n",
        "l4=[10, 20, 30, 40, 50]\n",
        "l4.reverse()\n",
        "print(l4)"
      ],
      "metadata": {
        "colab": {
          "base_uri": "https://localhost:8080/"
        },
        "id": "JVLexzBSdZ5G",
        "outputId": "2e8ce529-98f5-4151-ca1b-ab1686c8e1c7"
      },
      "execution_count": null,
      "outputs": [
        {
          "output_type": "stream",
          "name": "stdout",
          "text": [
            "[50, 40, 30, 20, 10]\n"
          ]
        }
      ]
    },
    {
      "cell_type": "code",
      "source": [
        "#11. Write a code to create a tuple with the elements 100, 200, 300 and print it\n",
        "t1=(100,200,300)\n",
        "print(t1)"
      ],
      "metadata": {
        "colab": {
          "base_uri": "https://localhost:8080/"
        },
        "id": "Wv_yJH_HdycN",
        "outputId": "2aab8a82-a57a-4979-96f9-7717a66ab8e8"
      },
      "execution_count": null,
      "outputs": [
        {
          "output_type": "stream",
          "name": "stdout",
          "text": [
            "(100, 200, 300)\n"
          ]
        }
      ]
    },
    {
      "cell_type": "code",
      "source": [
        "#12. Write a code to access the second-to-last element of the tuple ('red', 'green', 'blue', 'yellow').\n",
        "t2=('red', 'green', 'blue', 'yellow')\n",
        "print(t2[-2])"
      ],
      "metadata": {
        "colab": {
          "base_uri": "https://localhost:8080/"
        },
        "id": "gFBFLejkgfDG",
        "outputId": "3ff75c4e-5217-4d56-cab5-41aba16fe63e"
      },
      "execution_count": null,
      "outputs": [
        {
          "output_type": "stream",
          "name": "stdout",
          "text": [
            "blue\n"
          ]
        }
      ]
    },
    {
      "cell_type": "code",
      "source": [
        "#13. Write a code to find the minimum number in the tuple (10, 20, 5, 15)\n",
        "t3=(10, 20, 5, 15)\n",
        "t4=sorted(t3)\n",
        "print(t4[0])"
      ],
      "metadata": {
        "colab": {
          "base_uri": "https://localhost:8080/"
        },
        "id": "LVzpXbphguTP",
        "outputId": "8be24bad-0872-4ce4-a958-b4c742429547"
      },
      "execution_count": null,
      "outputs": [
        {
          "output_type": "stream",
          "name": "stdout",
          "text": [
            "5\n"
          ]
        }
      ]
    },
    {
      "cell_type": "code",
      "source": [
        "#14. Write a code to find the index of the element \"cat\" in the tuple ('dog', 'cat', 'rabbit').\n",
        "t=('dog', 'cat', 'rabbit')\n",
        "print(t.index('cat'))"
      ],
      "metadata": {
        "colab": {
          "base_uri": "https://localhost:8080/"
        },
        "id": "klPkm2O0gzxc",
        "outputId": "04d291ee-3109-4dcc-9ce0-7b4a57fa629c"
      },
      "execution_count": null,
      "outputs": [
        {
          "output_type": "stream",
          "name": "stdout",
          "text": [
            "1\n"
          ]
        }
      ]
    },
    {
      "cell_type": "code",
      "source": [
        "#15.Write a code to create a tuple containing three different fruits and check if \"kiwi\" is in it\n",
        "fruits=('apple','kiwi','banana')\n",
        "print('kiwi' in fruits)"
      ],
      "metadata": {
        "colab": {
          "base_uri": "https://localhost:8080/"
        },
        "id": "gpUj8nU9gzrQ",
        "outputId": "b3ea6758-86b1-42c3-e75d-0916359daf16"
      },
      "execution_count": null,
      "outputs": [
        {
          "output_type": "stream",
          "name": "stdout",
          "text": [
            "True\n"
          ]
        }
      ]
    },
    {
      "cell_type": "code",
      "source": [
        "#16.Write a code to create a set with the elements 'a', 'b', 'c' and print it.\n",
        "s={'a','b','c'}\n",
        "print(s)"
      ],
      "metadata": {
        "colab": {
          "base_uri": "https://localhost:8080/"
        },
        "id": "fEI9pygqgzlA",
        "outputId": "b9f93499-b4fc-405a-ba02-11190baf7005"
      },
      "execution_count": null,
      "outputs": [
        {
          "output_type": "stream",
          "name": "stdout",
          "text": [
            "{'b', 'a', 'c'}\n"
          ]
        }
      ]
    },
    {
      "cell_type": "code",
      "source": [
        "#17. Write a code to clear all elements from the set {1, 2, 3, 4, 5}.\n",
        "s2={1, 2, 3, 4, 5}\n",
        "s2.clear()\n",
        "print(s2)"
      ],
      "metadata": {
        "colab": {
          "base_uri": "https://localhost:8080/"
        },
        "id": "7GEvu-dZgzec",
        "outputId": "f4ef263f-18ea-42ec-9053-0fc7ffe8d87f"
      },
      "execution_count": null,
      "outputs": [
        {
          "output_type": "stream",
          "name": "stdout",
          "text": [
            "set()\n"
          ]
        }
      ]
    },
    {
      "cell_type": "code",
      "source": [
        "#18. Write a code to remove the element 4 from the set {1, 2, 3, 4}.\n",
        "s3={1,2,3,4}\n",
        "s3.remove(4)\n",
        "print(s3)"
      ],
      "metadata": {
        "colab": {
          "base_uri": "https://localhost:8080/"
        },
        "id": "wZBa4ra9gzYI",
        "outputId": "6799278b-ad36-4a29-8875-7a6ebaf28fe1"
      },
      "execution_count": null,
      "outputs": [
        {
          "output_type": "stream",
          "name": "stdout",
          "text": [
            "{1, 2, 3}\n"
          ]
        }
      ]
    },
    {
      "cell_type": "code",
      "source": [
        "#19. Write a code to find the union of two sets {1, 2, 3} and {3, 4, 5}\n",
        "a={1,2,3}\n",
        "b={3,4,5}\n",
        "c=a|b\n",
        "print(c)"
      ],
      "metadata": {
        "id": "ulr1kvQIgzRz",
        "colab": {
          "base_uri": "https://localhost:8080/"
        },
        "outputId": "5b07f50e-e3c0-4b32-c4ff-7d31561cae49"
      },
      "execution_count": 3,
      "outputs": [
        {
          "output_type": "stream",
          "name": "stdout",
          "text": [
            "{1, 2, 3, 4, 5}\n"
          ]
        }
      ]
    },
    {
      "cell_type": "code",
      "source": [
        "#20.Write a code to find the intersection of two sets {1, 2, 3} and {2, 3, 4}\n",
        "a={1,2,3}\n",
        "b={2,3,4}\n",
        "c=a&b\n",
        "print(c)"
      ],
      "metadata": {
        "id": "LZwX81k0gzLc",
        "colab": {
          "base_uri": "https://localhost:8080/"
        },
        "outputId": "758b0b31-9a6e-47d6-ee62-2a115bede3b2"
      },
      "execution_count": 4,
      "outputs": [
        {
          "output_type": "stream",
          "name": "stdout",
          "text": [
            "{2, 3}\n"
          ]
        }
      ]
    },
    {
      "cell_type": "code",
      "source": [
        "#21. Write a code to create a dictionary with the keys \"name\", \"age\", and \"city\", and print it\n",
        "d1={\"name\":\"Anupam\",\"age\":\"19\",\"city\":\"jajpur\"}\n",
        "print(d1)"
      ],
      "metadata": {
        "id": "fyoSIPcXgzFJ",
        "colab": {
          "base_uri": "https://localhost:8080/"
        },
        "outputId": "9bf1390e-ba38-428d-d8aa-20acdaebe073"
      },
      "execution_count": 5,
      "outputs": [
        {
          "output_type": "stream",
          "name": "stdout",
          "text": [
            "{'name': 'Anupam', 'age': '19', 'city': 'jajpur'}\n"
          ]
        }
      ]
    },
    {
      "cell_type": "code",
      "source": [
        "#22.Write a code to add a new key-value pair \"country\": \"USA\" to the dictionary {'name': 'John', 'age': 25}\n",
        "d2={'name': 'John', 'age': 25}\n",
        "d2.update({\"country\":\"USA\"})\n",
        "print(d2)"
      ],
      "metadata": {
        "id": "HMxQfFcZgy_J",
        "colab": {
          "base_uri": "https://localhost:8080/"
        },
        "outputId": "b02e0979-edcd-4a91-dcbd-629c1fe6c3dd"
      },
      "execution_count": 6,
      "outputs": [
        {
          "output_type": "stream",
          "name": "stdout",
          "text": [
            "{'name': 'John', 'age': 25, 'country': 'USA'}\n"
          ]
        }
      ]
    },
    {
      "cell_type": "code",
      "source": [
        "#23.Write a code to access the value associated with the key \"name\" in the dictionary {'name': 'Alice', 'age': 30}.\n",
        "d3={'name': 'Alice', 'age': 30}\n",
        "print(d3[\"name\"])"
      ],
      "metadata": {
        "id": "jc3LcGucgy40",
        "colab": {
          "base_uri": "https://localhost:8080/"
        },
        "outputId": "03062ae5-6ec4-4c28-b5ed-2aeaab3d0b52"
      },
      "execution_count": 7,
      "outputs": [
        {
          "output_type": "stream",
          "name": "stdout",
          "text": [
            "Alice\n"
          ]
        }
      ]
    },
    {
      "cell_type": "code",
      "source": [
        "#24. Write a code to remove the key \"age\" from the dictionary {'name': 'Bob', 'age': 22, 'city': 'New York'}\n",
        "d4={'name': 'Bob', 'age': 22, 'city': 'New York'}\n",
        "d4.pop(\"age\")\n",
        "print(d4)"
      ],
      "metadata": {
        "id": "Ekinl-9wgyyc",
        "colab": {
          "base_uri": "https://localhost:8080/"
        },
        "outputId": "eeacaa10-a90b-41a8-9d5d-5f661a492c25"
      },
      "execution_count": 8,
      "outputs": [
        {
          "output_type": "stream",
          "name": "stdout",
          "text": [
            "{'name': 'Bob', 'city': 'New York'}\n"
          ]
        }
      ]
    },
    {
      "cell_type": "code",
      "source": [
        "#25. Write a code to check if the key \"city\" exists in the dictionary {'name': 'Alice', 'city': 'Paris'}\n",
        "d5={'name': 'Alice', 'city': 'Paris'}\n",
        "print('city' in d5)"
      ],
      "metadata": {
        "id": "YJXTCd6ZgysU",
        "colab": {
          "base_uri": "https://localhost:8080/"
        },
        "outputId": "8db29f63-6ce2-44b9-871c-2d74d2e2d81c"
      },
      "execution_count": 9,
      "outputs": [
        {
          "output_type": "stream",
          "name": "stdout",
          "text": [
            "True\n"
          ]
        }
      ]
    },
    {
      "cell_type": "code",
      "source": [
        "#26. Write a code to create a list, a tuple, and a dictionary, and print them all\n",
        "my_list=[1,2,3]\n",
        "my_tuple=('a','b','c')\n",
        "my_dict={'name':'Anupam','age':19}\n",
        "print(\"My list:\",my_list)\n",
        "print(\"My tuple:\",my_tuple)\n",
        "print(\"My dictionary:\",my_dict)"
      ],
      "metadata": {
        "id": "5JiFBpxNgymM",
        "colab": {
          "base_uri": "https://localhost:8080/"
        },
        "outputId": "a9831b9d-fe15-4538-b7b9-29c5c36f42e2"
      },
      "execution_count": 10,
      "outputs": [
        {
          "output_type": "stream",
          "name": "stdout",
          "text": [
            "My list: [1, 2, 3]\n",
            "My tuple: ('a', 'b', 'c')\n",
            "My dictionary: {'name': 'Anupam', 'age': 19}\n"
          ]
        }
      ]
    },
    {
      "cell_type": "code",
      "source": [
        "#27. Write a code to create a list of 5 random numbers between 1 and 100, sort it in ascending order, and print the result.(replaced)\n",
        "import random\n",
        "li=[]\n",
        "for i in range(5):\n",
        "  li.append(random.randint(1,100))\n",
        "li.sort()\n",
        "print(li)\n"
      ],
      "metadata": {
        "id": "UDy3rUaugygN",
        "colab": {
          "base_uri": "https://localhost:8080/"
        },
        "outputId": "8a7a80ae-53f8-4b41-e642-41c3770f52d3"
      },
      "execution_count": 13,
      "outputs": [
        {
          "output_type": "stream",
          "name": "stdout",
          "text": [
            "[22, 23, 30, 47, 65]\n"
          ]
        }
      ]
    },
    {
      "cell_type": "code",
      "source": [
        "#28.Write a code to create a list with strings and print the element at the third index\n",
        "l=['a','b','c','d']\n",
        "print(l[3])"
      ],
      "metadata": {
        "colab": {
          "base_uri": "https://localhost:8080/"
        },
        "id": "xtqX5ysBgyZz",
        "outputId": "364a7722-8acf-44b2-b593-92f1993bb8df"
      },
      "execution_count": null,
      "outputs": [
        {
          "output_type": "stream",
          "name": "stdout",
          "text": [
            "d\n"
          ]
        }
      ]
    },
    {
      "cell_type": "code",
      "source": [
        "#29.Write a code to combine two dictionaries into one and print the result.\n",
        "d1={'a':1,'b':2}\n",
        "d2={'c':3,'d':4}\n",
        "d1.update(d2)\n",
        "print(d1)"
      ],
      "metadata": {
        "colab": {
          "base_uri": "https://localhost:8080/"
        },
        "id": "UsFbstaXgySz",
        "outputId": "2a2efd67-eea6-4f76-9cce-5c6e746b3fe7"
      },
      "execution_count": null,
      "outputs": [
        {
          "output_type": "stream",
          "name": "stdout",
          "text": [
            "{'a': 1, 'b': 2, 'c': 3, 'd': 4}\n"
          ]
        }
      ]
    },
    {
      "cell_type": "code",
      "source": [
        "#30. Write a code to convert a list of strings into a set.\n",
        "l=[\"a\",\"b\",\"c\"]\n",
        "s=set(l)\n",
        "print(s)"
      ],
      "metadata": {
        "colab": {
          "base_uri": "https://localhost:8080/"
        },
        "id": "ryBMjqPBgyHo",
        "outputId": "9f193833-0dc6-4187-c8a2-06a36f0238f2"
      },
      "execution_count": null,
      "outputs": [
        {
          "output_type": "stream",
          "name": "stdout",
          "text": [
            "{'b', 'a', 'c'}\n"
          ]
        }
      ]
    }
  ]
}