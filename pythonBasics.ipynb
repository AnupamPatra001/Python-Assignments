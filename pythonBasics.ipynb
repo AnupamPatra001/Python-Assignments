{
  "nbformat": 4,
  "nbformat_minor": 0,
  "metadata": {
    "colab": {
      "provenance": []
    },
    "kernelspec": {
      "name": "python3",
      "display_name": "Python 3"
    },
    "language_info": {
      "name": "python"
    }
  },
  "cells": [
    {
      "cell_type": "markdown",
      "source": [
        "# Python Basics"
      ],
      "metadata": {
        "id": "5ncaaD-hZEhi"
      }
    },
    {
      "cell_type": "markdown",
      "source": [
        "## Theory"
      ],
      "metadata": {
        "id": "eLiGxT-YygfV"
      }
    },
    {
      "cell_type": "markdown",
      "source": [
        "1. What is Python, and why is it popular ?\n",
        "  - Python is a high level, simple to learn and interpreted language which is object oriented.\n",
        "  - It is very popular because of its simple codes, open source nature and a vast library.\n",
        "2. What is an interpreter in Python ?\n",
        "  - An interpreter is a program which reads and executes the code line by line.\n",
        "  - It also converts the python source code into machine level instruction .\n",
        "3. What are pre-defined keywords in Python ?\n",
        "  - Pre-defined keyword in python are some perticular words in python that have a perticular meaning and a perticular use in cases.\n",
        "  - It has some specific purpose for each keyword.\n",
        "  - eg: class, false, import, print, etc\n",
        "4. Can keywords be used as variable names ?\n",
        "  - No, keywords can not be used as variable, although it doesnot through any error because it override the built-in function 'print' but it is not appropriate to use.\n",
        "5. What is mutability in Python ?\n",
        "  - In python mutability refers to in a datatype if the value can be change or edited after the the creation or not.\n",
        "  - If the variable of that datatype is not changable once after the creation then it is known as immutable.\n",
        "  -eg:\n",
        "    - mutable: dict, list\n",
        "    - immutable: str, tuple\n",
        "6. Why are lists mutable, but tuples are immutable ?\n",
        "  - List are dynamic collecton of datas, implemented using dynamic array and they are used to change so they are mutable.\n",
        "  - But, the tuples are static and they are used to save the memory than lists so they are made to be unchanged and immutable.\n",
        "7. What is the difference between “==” and “is” operators in Python ?\n",
        "  - \"==\":\n",
        "    - It compares values of two variable.\n",
        "    - It means value equality.\n",
        "  - \"is\":\n",
        "    - It compares memory location of two variables.\n",
        "    - It means object equality.\n",
        "8. What are logical operators in Python?\n",
        "  - Logical operators are combine the conditional statements and return true or false.\n",
        "  - There are three types of logical operator:\n",
        "    - and: Returns True for all conditions are true.\n",
        "    - or: Returns True if atleast one condtion is true.\n",
        "    - not: Returns the opposite of the condition.\n",
        "9. What is type casting in Python?\n",
        "  - Type casting is also known as type conversion in which the datatype of a variable can be changed .\n",
        "  - eg:\n",
        "      a=\"2\" #str\n",
        "      b=int(a) #int\n",
        "10. What is the difference between implicit and explicit type casting ?\n",
        "  - Implicit type casting is done by python interpreter.\n",
        "  - eg:\n",
        "    a=2\n",
        "    b=3.0\n",
        "    print(a+b) #5.0\n",
        "     - Here the value of 'a' is automatically convert into int to float.\n",
        "  - Explicit typecast is ddone by coder.\n",
        "  - eg:\n",
        "    a=\"2\"\n",
        "    b=int(a)\n",
        "11. What is the purpose of conditional statements in Python ?\n",
        "  - Conditional statement give a decision by cirtain conditions.\n",
        "  - Therre are some conditional statements are in python , like:\n",
        "     - if,if else, if else ladder , etc\n",
        "12. How does the elif statement work ?\n",
        "  - The elif statement allows to check for many conditions sequencially after one if block.\n",
        "  - In python the blocks are executed from top to bottom and first if block is executed and the the other elif bloocks are executed the last else block is executed if no if or elif block condition are true.\n",
        "13. What is the difference between for and while loops ?\n",
        "  - for:\n",
        "     - in this loop the iteration is executed in a given sequence.\n",
        "     - Syntax:\n",
        "           for i in range(n):\n",
        "              print(i)\n",
        "  - while:\n",
        "     - in this loop the iteration is executed until the condition fails.\n",
        "     - Syntax:\n",
        "           while condition True:\n",
        "              pass\n",
        "14. Describe a scenario where a while loop is more suitable than a for loop.\n",
        "  - When you don't know that exartly how many times to repeat the loop.\n",
        "  - eg:\n",
        "      while mark < 60:\n",
        "          print (\"You have to re-attempt\")\n",
        "  - Means here we do not know that how many time you got less than 60 marks , so here the while loop is more useful.\n",
        "\n",
        "\n",
        "\n",
        "\n",
        "\n"
      ],
      "metadata": {
        "id": "06FmscOwZCuk"
      }
    },
    {
      "cell_type": "markdown",
      "source": [
        "## Practical"
      ],
      "metadata": {
        "id": "HFBmCI30yWR-"
      }
    },
    {
      "cell_type": "code",
      "execution_count": 1,
      "metadata": {
        "colab": {
          "base_uri": "https://localhost:8080/"
        },
        "id": "w8uxHyS8Y0Gi",
        "outputId": "5b8542d8-3ee5-4b18-bf40-7c16aa3050ed"
      },
      "outputs": [
        {
          "output_type": "stream",
          "name": "stdout",
          "text": [
            "Hello, World!\n"
          ]
        }
      ],
      "source": [
        "# 1. Write a Python program to print \"Hello, World!\"\n",
        "print(\"Hello, World!\")"
      ]
    },
    {
      "cell_type": "code",
      "source": [
        "# 2.Write a Python program that displays your name and age\n",
        "name=input(\"Enter your name: \")\n",
        "age=int(input(\"Enter your age: \"))\n",
        "print(f\"My name is {name} and my age is {age}\")\n"
      ],
      "metadata": {
        "colab": {
          "base_uri": "https://localhost:8080/"
        },
        "id": "m0hIWc6AzCdC",
        "outputId": "cf3103f1-4641-411f-f6ec-2117f9ae1475"
      },
      "execution_count": 3,
      "outputs": [
        {
          "output_type": "stream",
          "name": "stdout",
          "text": [
            "Enter your name: Anupam\n",
            "Enter your age: 19\n",
            "My name is Anupam and my age is 19\n"
          ]
        }
      ]
    },
    {
      "cell_type": "code",
      "source": [
        "# 3. Write code to print all the pre-defined keywords in Python using the keyword library\n",
        "import keyword\n",
        "print(keyword.kwlist)"
      ],
      "metadata": {
        "colab": {
          "base_uri": "https://localhost:8080/"
        },
        "id": "1DYWOUxUzF7A",
        "outputId": "46898de9-fc93-4e40-d9d4-eb786d691f12"
      },
      "execution_count": 4,
      "outputs": [
        {
          "output_type": "stream",
          "name": "stdout",
          "text": [
            "['False', 'None', 'True', 'and', 'as', 'assert', 'async', 'await', 'break', 'class', 'continue', 'def', 'del', 'elif', 'else', 'except', 'finally', 'for', 'from', 'global', 'if', 'import', 'in', 'is', 'lambda', 'nonlocal', 'not', 'or', 'pass', 'raise', 'return', 'try', 'while', 'with', 'yield']\n"
          ]
        }
      ]
    },
    {
      "cell_type": "code",
      "source": [
        "# 4.Write a program that checks if a given word is a Python keyword.\n",
        "import keyword\n",
        "l=list(keyword.kwlist)\n",
        "word=input(\"Enter a word:\")\n",
        "if word in l:\n",
        "  print(f\"{word} is a keyword\")\n",
        "else:\n",
        "  print(f\"{word} is not a keyword\")"
      ],
      "metadata": {
        "colab": {
          "base_uri": "https://localhost:8080/"
        },
        "id": "PtJYu0NyzF3Y",
        "outputId": "e1cf2bae-fbbf-4c39-a1f8-aabee73f7320"
      },
      "execution_count": 6,
      "outputs": [
        {
          "output_type": "stream",
          "name": "stdout",
          "text": [
            "Enter a word:import\n",
            "import is a keyword\n"
          ]
        }
      ]
    },
    {
      "cell_type": "code",
      "source": [
        "# 5.Create a list and tuple in Python, and demonstrate how attempting to change an element works differently\n",
        "# for each\n",
        "l=[1,2,3,4,5]\n",
        "t=(1,2,3,4,5)\n",
        "l[0]=6\n",
        "print(l)\n",
        "t[0]=6\n",
        "print(t)\n",
        "\n"
      ],
      "metadata": {
        "colab": {
          "base_uri": "https://localhost:8080/",
          "height": 228
        },
        "id": "Yk7oD6H8zF0y",
        "outputId": "4f5eeebc-11b7-46cc-c28b-a09cff48132c"
      },
      "execution_count": 7,
      "outputs": [
        {
          "output_type": "stream",
          "name": "stdout",
          "text": [
            "[6, 2, 3, 4, 5]\n"
          ]
        },
        {
          "output_type": "error",
          "ename": "TypeError",
          "evalue": "'tuple' object does not support item assignment",
          "traceback": [
            "\u001b[0;31m---------------------------------------------------------------------------\u001b[0m",
            "\u001b[0;31mTypeError\u001b[0m                                 Traceback (most recent call last)",
            "\u001b[0;32m/tmp/ipython-input-7-1154963077.py\u001b[0m in \u001b[0;36m<cell line: 0>\u001b[0;34m()\u001b[0m\n\u001b[1;32m      5\u001b[0m \u001b[0ml\u001b[0m\u001b[0;34m[\u001b[0m\u001b[0;36m0\u001b[0m\u001b[0;34m]\u001b[0m\u001b[0;34m=\u001b[0m\u001b[0;36m6\u001b[0m\u001b[0;34m\u001b[0m\u001b[0;34m\u001b[0m\u001b[0m\n\u001b[1;32m      6\u001b[0m \u001b[0mprint\u001b[0m\u001b[0;34m(\u001b[0m\u001b[0ml\u001b[0m\u001b[0;34m)\u001b[0m\u001b[0;34m\u001b[0m\u001b[0;34m\u001b[0m\u001b[0m\n\u001b[0;32m----> 7\u001b[0;31m \u001b[0mt\u001b[0m\u001b[0;34m[\u001b[0m\u001b[0;36m0\u001b[0m\u001b[0;34m]\u001b[0m\u001b[0;34m=\u001b[0m\u001b[0;36m6\u001b[0m\u001b[0;34m\u001b[0m\u001b[0;34m\u001b[0m\u001b[0m\n\u001b[0m\u001b[1;32m      8\u001b[0m \u001b[0mprint\u001b[0m\u001b[0;34m(\u001b[0m\u001b[0mt\u001b[0m\u001b[0;34m)\u001b[0m\u001b[0;34m\u001b[0m\u001b[0;34m\u001b[0m\u001b[0m\n\u001b[1;32m      9\u001b[0m \u001b[0;34m\u001b[0m\u001b[0m\n",
            "\u001b[0;31mTypeError\u001b[0m: 'tuple' object does not support item assignment"
          ]
        }
      ]
    },
    {
      "cell_type": "code",
      "source": [
        "# 6.Write a function to demonstrate the behavior of mutable and immutable arguments.\n",
        "def arg_mod(num1,list1):\n",
        "  num1+=1\n",
        "  list1.append(10)\n",
        "  print(\"Inside function num :\",num1)\n",
        "  print(\"Inside function list :\",list1)\n",
        "num1=6\n",
        "list1=[1,2,3,4,5]\n",
        "arg_mod(num1,list1)\n",
        "print(\"outside function num :\",num1)\n",
        "print(\"outside function list :\",list1)"
      ],
      "metadata": {
        "colab": {
          "base_uri": "https://localhost:8080/"
        },
        "id": "pRZmmsgAzFxl",
        "outputId": "fec35e01-604c-4d35-969d-e3d41be88aa0"
      },
      "execution_count": 4,
      "outputs": [
        {
          "output_type": "stream",
          "name": "stdout",
          "text": [
            "Inside function num : 7\n",
            "Inside function list : [1, 2, 3, 4, 5, 10]\n",
            "outside function num : 6\n",
            "outside function list : [1, 2, 3, 4, 5, 10]\n"
          ]
        }
      ]
    },
    {
      "cell_type": "code",
      "source": [
        "#7. Write a program that performs basic arithmetic operations on two user-input numbers.\n",
        "a=int(input(\"Enter a:\"))\n",
        "b=int(input(\"Enter b:\"))\n",
        "op=int(input(\"\"\"\n",
        "1 for +,\n",
        "2 for -,\n",
        "3 for *,\n",
        "4 for /,\n",
        "5 for ^\n",
        "\"\"\"))\n",
        "if op==1:\n",
        "  print(\"a+b=\",a+b)\n",
        "elif op==2:\n",
        "  print(\"a-b=\",a-b)\n",
        "elif op==3:\n",
        "  print(\"a*b=\",a*b)\n",
        "elif op==4:\n",
        "  print(\"a/b=\",a/b)\n",
        "elif op==5:\n",
        "  print(\"a^b=\",a**b)\n",
        "\n"
      ],
      "metadata": {
        "colab": {
          "base_uri": "https://localhost:8080/"
        },
        "id": "p21V9gMCzFub",
        "outputId": "bbf8575d-3936-4b68-d5d2-274d1e08d53f"
      },
      "execution_count": 8,
      "outputs": [
        {
          "output_type": "stream",
          "name": "stdout",
          "text": [
            "Enter a:4\n",
            "Enter b:6\n",
            "\n",
            "1 for +,\n",
            "2 for -,\n",
            "3 for *,\n",
            "4 for /,\n",
            "5 for ^\n",
            "5\n",
            "a^b= 4096\n"
          ]
        }
      ]
    },
    {
      "cell_type": "code",
      "source": [
        "# 8. Write a program to demonstrate the use of logical operators.\n",
        "a=True\n",
        "b=False\n",
        "print(a and b)\n",
        "print(a or b)\n",
        "print(not b)"
      ],
      "metadata": {
        "colab": {
          "base_uri": "https://localhost:8080/"
        },
        "id": "yKycUMQ1zFhO",
        "outputId": "3e875756-06d0-4fc2-ee05-d8c1b3ae3cfa"
      },
      "execution_count": 9,
      "outputs": [
        {
          "output_type": "stream",
          "name": "stdout",
          "text": [
            "False\n",
            "True\n",
            "True\n"
          ]
        }
      ]
    },
    {
      "cell_type": "code",
      "source": [
        "# 9.Write a Python program to convert user input from string to integer, float, and boolean types.\n",
        "user=input(\"Enter a number:\")\n",
        "mod_n=int(user)\n",
        "print(mod_n)\n",
        "mod_f=float(user)\n",
        "print(mod_f)\n",
        "mod_b=bool(user)\n",
        "print(mod_b)\n"
      ],
      "metadata": {
        "colab": {
          "base_uri": "https://localhost:8080/"
        },
        "id": "R5VScIrXJY4w",
        "outputId": "06471ea7-2d65-429d-f48d-eabd7607f27e"
      },
      "execution_count": 10,
      "outputs": [
        {
          "output_type": "stream",
          "name": "stdout",
          "text": [
            "Enter a number:5\n",
            "5\n",
            "5.0\n",
            "True\n"
          ]
        }
      ]
    },
    {
      "cell_type": "code",
      "source": [
        "# 10.Write code to demonstrate type casting with list elements.\n",
        "l=[]\n",
        "user=l.append(input(\"Enter the list:\"))\n",
        "mod_set=set(l)\n",
        "print(l,type(l))\n",
        "print(mod_set,type(mod_set))"
      ],
      "metadata": {
        "colab": {
          "base_uri": "https://localhost:8080/"
        },
        "id": "42CpLhp_JYzT",
        "outputId": "cec69744-02aa-43c8-944e-a58c692926ea"
      },
      "execution_count": 12,
      "outputs": [
        {
          "output_type": "stream",
          "name": "stdout",
          "text": [
            "Enter the list:1,2.3,'a','anup'\n",
            "[\"1,2.3,'a','anup'\"] <class 'list'>\n",
            "{\"1,2.3,'a','anup'\"} <class 'set'>\n"
          ]
        }
      ]
    },
    {
      "cell_type": "code",
      "source": [
        "# 11.Write a program that checks if a number is positive, negative, or zero\n",
        "user=int(input(\"Enter a number to check:\"))\n",
        "if user<0:\n",
        "  print(f\"{user} is negative\")\n",
        "elif user>0:\n",
        "  print(f\"{user} is positive\")\n",
        "else:\n",
        "  print(f\"{user} is zero\")"
      ],
      "metadata": {
        "colab": {
          "base_uri": "https://localhost:8080/"
        },
        "id": "Ysvbq6vHJYtO",
        "outputId": "1fa79d33-9272-4120-ded6-f0678cb08ea3"
      },
      "execution_count": 13,
      "outputs": [
        {
          "output_type": "stream",
          "name": "stdout",
          "text": [
            "Enter a number to check:8\n",
            "8 is positive\n"
          ]
        }
      ]
    },
    {
      "cell_type": "code",
      "source": [
        "# 12.Write a for loop to print numbers from 1 to 10.\n",
        "for i in range(1,11):\n",
        "  print(i,end=\" \")"
      ],
      "metadata": {
        "colab": {
          "base_uri": "https://localhost:8080/"
        },
        "id": "XDmnRtLNJYnv",
        "outputId": "e9f3b0e8-9e83-4d46-83fa-ecbfad6ad068"
      },
      "execution_count": 14,
      "outputs": [
        {
          "output_type": "stream",
          "name": "stdout",
          "text": [
            "1 2 3 4 5 6 7 8 9 10 "
          ]
        }
      ]
    },
    {
      "cell_type": "code",
      "source": [
        "# 13. Write a Python program to find the sum of all even numbers between 1 and 50\n",
        "sum=0\n",
        "for i in range(1,51):\n",
        "  if i % 2 == 0:\n",
        "    sum+=i\n",
        "print(sum)"
      ],
      "metadata": {
        "id": "1N_JK6-NJX8H"
      },
      "execution_count": null,
      "outputs": []
    },
    {
      "cell_type": "code",
      "source": [
        "# 14. Write a program to reverse a string using a while loop.\n",
        "string=\"pwskills\"\n",
        "rev_str=\"\"\n",
        "i=len(string)-1\n",
        "while i>=0:\n",
        "  rev_str += string[i]\n",
        "  i-=1\n",
        "print(rev_str)"
      ],
      "metadata": {
        "colab": {
          "base_uri": "https://localhost:8080/"
        },
        "id": "NNlWKNQhJXjf",
        "outputId": "90903b49-8d97-4545-89a5-ebcbdee5ca16"
      },
      "execution_count": 4,
      "outputs": [
        {
          "output_type": "stream",
          "name": "stdout",
          "text": [
            "7\n",
            "6\n",
            "5\n",
            "4\n",
            "3\n",
            "2\n",
            "1\n",
            "0\n",
            "sllikswp\n"
          ]
        }
      ]
    },
    {
      "cell_type": "code",
      "source": [
        "# 15.Write a Python program to calculate the factorial of a number provided by the user using a while loop\n",
        "n=int(input(\"Enter n:\"))\n",
        "n1=n\n",
        "fact=1\n",
        "while n>0:\n",
        "  fact *= n\n",
        "  n -= 1\n",
        "print(f\"Factorial of {n1} is {fact}\")"
      ],
      "metadata": {
        "colab": {
          "base_uri": "https://localhost:8080/"
        },
        "id": "afvZzJv4JXC6",
        "outputId": "f75773f7-0ab4-4eee-c963-4f3dfac3250b"
      },
      "execution_count": 7,
      "outputs": [
        {
          "output_type": "stream",
          "name": "stdout",
          "text": [
            "Enter n:5\n",
            "Factorial of 5 is 120\n"
          ]
        }
      ]
    }
  ]
}